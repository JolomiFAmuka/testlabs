{
 "cells": [
  {
   "cell_type": "code",
   "execution_count": 1,
   "id": "470d4132",
   "metadata": {},
   "outputs": [],
   "source": [
    "#cup game using list\n",
    "from random import shuffle"
   ]
  },
  {
   "cell_type": "code",
   "execution_count": 2,
   "id": "26e2b9e8",
   "metadata": {},
   "outputs": [],
   "source": [
    "#create shuffle list function\n",
    "\n",
    "def shuff_list(mylist):\n",
    "    shuffle(mylist)\n",
    "    return mylist"
   ]
  },
  {
   "cell_type": "code",
   "execution_count": 3,
   "id": "fbb2cff7",
   "metadata": {},
   "outputs": [],
   "source": [
    "#create a player guess function\n",
    "\n",
    "def player_guess():\n",
    "    guess = \"\"\n",
    "    while guess not in range(0,3):\n",
    "        guess = int(input(\"Pick a number between 0,1 and 2: \"))\n",
    "    return guess"
   ]
  },
  {
   "cell_type": "code",
   "execution_count": 4,
   "id": "b363ac5d",
   "metadata": {},
   "outputs": [],
   "source": [
    "# combine the two functions \n",
    "def game_play(mylist, guess):\n",
    "    if mylist[guess] == \"O\":\n",
    "        print(\"Correct\")\n",
    "    else:\n",
    "        print(\"Wrong option\")\n",
    "        print(mylist)"
   ]
  },
  {
   "cell_type": "code",
   "execution_count": 7,
   "id": "29eaa40c",
   "metadata": {},
   "outputs": [
    {
     "name": "stdout",
     "output_type": "stream",
     "text": [
      "Pick a number between 0,1 and 2: 1\n",
      "Wrong option\n",
      "['O', ' ', ' ']\n"
     ]
    }
   ],
   "source": [
    "#get the game list\n",
    "game_list = [\" \",\"O\",\" \"]\n",
    "#shuffle the list\n",
    "mixedlist = shuff_list(game_list)\n",
    "#get the player guess\n",
    "guess = player_guess()\n",
    "#run the game\n",
    "game_play(mixedlist,guess)"
   ]
  },
  {
   "cell_type": "code",
   "execution_count": null,
   "id": "76b7aeca",
   "metadata": {},
   "outputs": [],
   "source": []
  }
 ],
 "metadata": {
  "kernelspec": {
   "display_name": "Python 3",
   "language": "python",
   "name": "python3"
  },
  "language_info": {
   "codemirror_mode": {
    "name": "ipython",
    "version": 3
   },
   "file_extension": ".py",
   "mimetype": "text/x-python",
   "name": "python",
   "nbconvert_exporter": "python",
   "pygments_lexer": "ipython3",
   "version": "3.9.7"
  }
 },
 "nbformat": 4,
 "nbformat_minor": 5
}
