{
 "cells": [
  {
   "cell_type": "code",
   "execution_count": 3,
   "metadata": {},
   "outputs": [],
   "source": [
    "numbers = [2,3,4]\n",
    "doubled = [num * 2 for num in numbers]"
   ]
  },
  {
   "cell_type": "code",
   "execution_count": 4,
   "metadata": {},
   "outputs": [
    {
     "output_type": "stream",
     "name": "stdout",
     "text": [
      "[4, 6, 8]\n"
     ]
    }
   ],
   "source": [
    "print(doubled)"
   ]
  },
  {
   "cell_type": "code",
   "execution_count": 4,
   "metadata": {},
   "outputs": [
    {
     "name": "stdout",
     "output_type": "stream",
     "text": [
      "['Sam', 'Samantha']\n"
     ]
    }
   ],
   "source": [
    "friends = [\"Rolf\", \"Sam\", \"Samantha\", \"Jen\"]\n",
    "sublist = []\n",
    "\n",
    "for friend in friends:\n",
    "    if friend.startswith(\"S\"):\n",
    "        sublist.append(friend)\n",
    "print(sublist)"
   ]
  },
  {
   "cell_type": "code",
   "execution_count": 6,
   "metadata": {},
   "outputs": [
    {
     "name": "stdout",
     "output_type": "stream",
     "text": [
      "24\n"
     ]
    }
   ],
   "source": [
    "friend_ages = {\"Rolf\":24, \"Adam\":32, \"Mike\":26}\n",
    "print(friend_ages[\"Rolf\"])"
   ]
  },
  {
   "cell_type": "code",
   "execution_count": 17,
   "metadata": {},
   "outputs": [
    {
     "name": "stdout",
     "output_type": "stream",
     "text": [
      "Corn-Flakes cost 3 dollars\n"
     ]
    }
   ],
   "source": [
    "grocery = [\n",
    "    {\"name\":\"Potates\",\"Price\":5},\n",
    "    {\"name\":\"Corn-Flakes\",\"Price\":3},\n",
    "    {\"name\":\"Chicken\",\"Price\":8}\n",
    "]\n",
    "print(f\"{grocery[1]['name']} cost {grocery[1]['Price']} dollars\")"
   ]
  },
  {
   "cell_type": "code",
   "execution_count": 26,
   "metadata": {},
   "outputs": [
    {
     "name": "stdout",
     "output_type": "stream",
     "text": [
      "Price\n",
      "Price\n",
      "Price\n"
     ]
    }
   ],
   "source": [
    "for item, index in grocery:\n",
    "    print(index)"
   ]
  },
  {
   "cell_type": "code",
   "execution_count": 36,
   "metadata": {},
   "outputs": [
    {
     "name": "stdout",
     "output_type": "stream",
     "text": [
      "Potates\n",
      "Corn-Flakes\n",
      "Chicken\n"
     ]
    }
   ],
   "source": [
    "for item in grocery:\n",
    "    print(item)"
   ]
  },
  {
   "cell_type": "code",
   "execution_count": 37,
   "metadata": {},
   "outputs": [
    {
     "name": "stdout",
     "output_type": "stream",
     "text": [
      "Potates: 5\n",
      "Corn-Flakes: 3\n",
      "Chicken: 8\n"
     ]
    }
   ],
   "source": [
    "for item in grocery:\n",
    "    print(f\"{item['name']}: {item['Price']}\")"
   ]
  },
  {
   "cell_type": "code",
   "execution_count": 38,
   "metadata": {},
   "outputs": [],
   "source": [
    "student_attendance = {\"Rolf\": 88, \"Bob\": 98,\"Sairol\": 79}"
   ]
  },
  {
   "cell_type": "code",
   "execution_count": 39,
   "metadata": {},
   "outputs": [
    {
     "data": {
      "text/plain": [
       "dict_items([('Rolf', 88), ('Bob', 98), ('Sairol', 79)])"
      ]
     },
     "execution_count": 39,
     "metadata": {},
     "output_type": "execute_result"
    }
   ],
   "source": [
    "student_attendance.items()"
   ]
  },
  {
   "cell_type": "code",
   "execution_count": 42,
   "metadata": {},
   "outputs": [
    {
     "name": "stdout",
     "output_type": "stream",
     "text": [
      "Bob:98\n"
     ]
    }
   ],
   "source": [
    "if \"Bob\" in student_attendance:\n",
    "    print(f\"Bob:{student_attendance['Bob']}\")\n",
    "else:\n",
    "    print(\"Bob is not a part of this class\")"
   ]
  },
  {
   "cell_type": "code",
   "execution_count": 44,
   "metadata": {},
   "outputs": [
    {
     "name": "stdout",
     "output_type": "stream",
     "text": [
      "88.33333333333333\n"
     ]
    }
   ],
   "source": [
    "attendance = student_attendance.values()\n",
    "print(sum(attendance)/len(attendance))"
   ]
  },
  {
   "cell_type": "code",
   "execution_count": 1,
   "metadata": {},
   "outputs": [],
   "source": [
    "x = 5,11"
   ]
  },
  {
   "cell_type": "code",
   "execution_count": 2,
   "metadata": {},
   "outputs": [
    {
     "data": {
      "text/plain": [
       "tuple"
      ]
     },
     "execution_count": 2,
     "metadata": {},
     "output_type": "execute_result"
    }
   ],
   "source": [
    "type(x)"
   ]
  },
  {
   "cell_type": "code",
   "execution_count": 3,
   "metadata": {},
   "outputs": [],
   "source": [
    "people = [(\"Bob\",43,\"Printer\"),(\"Miloe\",22,\"Designer\"),(\"Karen\",39,\"House-wife\")]"
   ]
  },
  {
   "cell_type": "code",
   "execution_count": 4,
   "metadata": {},
   "outputs": [
    {
     "name": "stdout",
     "output_type": "stream",
     "text": [
      "Printer\n",
      "Designer\n",
      "House-wife\n"
     ]
    }
   ],
   "source": [
    "for name,age,profession in people:\n",
    "    print(profession)"
   ]
  },
  {
   "cell_type": "code",
   "execution_count": 5,
   "metadata": {},
   "outputs": [],
   "source": [
    "person = (\"Bob\",43,\"Printer\")\n",
    "name,_,profession = person"
   ]
  },
  {
   "cell_type": "code",
   "execution_count": 6,
   "metadata": {},
   "outputs": [
    {
     "name": "stdout",
     "output_type": "stream",
     "text": [
      "43\n"
     ]
    }
   ],
   "source": [
    "print(_)"
   ]
  },
  {
   "cell_type": "code",
   "execution_count": 7,
   "metadata": {},
   "outputs": [
    {
     "name": "stdout",
     "output_type": "stream",
     "text": [
      "1\n",
      "[2, 3, 4, 5]\n"
     ]
    }
   ],
   "source": [
    "head, *tail = [1,2,3,4,5]\n",
    "print(head)\n",
    "print(tail)"
   ]
  },
  {
   "cell_type": "code",
   "execution_count": 8,
   "metadata": {},
   "outputs": [],
   "source": [
    "def user_age_in_seconds():\n",
    "    user_age = int(input(\"Enter your age: \"))\n",
    "    age_seconds = user_age * 365 * 24 * 60 * 60\n",
    "    print(f\"Your age in seconds is {age_seconds}\")"
   ]
  },
  {
   "cell_type": "code",
   "execution_count": 10,
   "metadata": {},
   "outputs": [
    {
     "name": "stdout",
     "output_type": "stream",
     "text": [
      "Enter your age: 30\n",
      "Your age in seconds is 946080000\n"
     ]
    }
   ],
   "source": [
    "user_age_in_seconds()"
   ]
  },
  {
   "cell_type": "code",
   "execution_count": 17,
   "metadata": {},
   "outputs": [
    {
     "name": "stdout",
     "output_type": "stream",
     "text": [
      "[4, 6, 8, 10]\n"
     ]
    }
   ],
   "source": [
    "def double(x):\n",
    "    return x*2\n",
    "\n",
    "sequence = [2,3,4,5]\n",
    "\n",
    "\n",
    "doubled = [double(x) for x in sequence]\n",
    "print(doubled)\n",
    "#doubled = map(double, sequence)\n",
    "\n",
    "\n",
    "# for c in sequence:\n",
    "#     print(double(c))"
   ]
  },
  {
   "cell_type": "code",
   "execution_count": 19,
   "metadata": {},
   "outputs": [
    {
     "name": "stdout",
     "output_type": "stream",
     "text": [
      "[4, 6, 8, 10]\n"
     ]
    }
   ],
   "source": [
    "resulte =list(map(lambda x: x*2, sequence))\n",
    "print(resulte)"
   ]
  },
  {
   "cell_type": "code",
   "execution_count": 20,
   "metadata": {},
   "outputs": [],
   "source": [
    "users = [\n",
    "    (0,\"Bob\",\"password\"),\n",
    "    (1,\"Anne\",\"bob123\"),\n",
    "    (2,\"Rick\",\"king@123\"),\n",
    "    (3,\"Mike\",\"12345\"),\n",
    "]"
   ]
  },
  {
   "cell_type": "code",
   "execution_count": 22,
   "metadata": {},
   "outputs": [
    {
     "name": "stdout",
     "output_type": "stream",
     "text": [
      "{'Bob': (0, 'Bob', 'password'), 'Anne': (1, 'Anne', 'bob123'), 'Rick': (2, 'Rick', 'king@123'), 'Mike': (3, 'Mike', '12345')}\n"
     ]
    }
   ],
   "source": [
    "user_mapping = {user[1]:user for user in users}\n",
    "print(user_mapping)"
   ]
  },
  {
   "cell_type": "code",
   "execution_count": 23,
   "metadata": {},
   "outputs": [
    {
     "name": "stdout",
     "output_type": "stream",
     "text": [
      "(1, 'Anne', 'bob123')\n"
     ]
    }
   ],
   "source": [
    "print(user_mapping[\"Anne\"])"
   ]
  },
  {
   "cell_type": "code",
   "execution_count": 4,
   "metadata": {},
   "outputs": [],
   "source": [
    "list_student =  [\n",
    "    {'name': 'Angela', 'grade': 86},\n",
    "    {'name': 'Mark', 'grade': 76},\n",
    "    {'name': 'Gatsby', 'grade': 97},\n",
    "]"
   ]
  },
  {
   "cell_type": "code",
   "execution_count": 20,
   "metadata": {},
   "outputs": [
    {
     "name": "stdout",
     "output_type": "stream",
     "text": [
      "count is 3\n",
      "Average is 86.33333333333333\n"
     ]
    }
   ],
   "source": [
    "total_grade = 0\n",
    "count = 0\n",
    "list_num = []\n",
    "for student in list_student:\n",
    "    #print(student['grade'])\n",
    "    total_grade += student['grade']\n",
    "    list_num.append(student)\n",
    "count = len(list_num)\n",
    "#print(total_grade)\n",
    "print(f\"count is {count}\")\n",
    "average = total_grade/count\n",
    "print(f\"Average is {average}\")\n"
   ]
  },
  {
   "cell_type": "code",
   "execution_count": 5,
   "metadata": {},
   "outputs": [],
   "source": [
    "class_list =  [\n",
    "    {'name': 'Angela', 'grades': 86},\n",
    "    {'name': 'Mark', 'grades': 76},\n",
    "    {'name': 'Gatsby', 'grades': 97},\n",
    "]"
   ]
  },
  {
   "cell_type": "code",
   "execution_count": 7,
   "metadata": {},
   "outputs": [],
   "source": [
    "def avg_grade(student_list):\n",
    "    total = 0\n",
    "    count = 0\n",
    "    for student in student_list:\n",
    "        total += sum(student['grades'])\n",
    "        count += len(student['grades'])\n",
    "    return total/count"
   ]
  },
  {
   "cell_type": "code",
   "execution_count": 10,
   "metadata": {},
   "outputs": [
    {
     "name": "stdout",
     "output_type": "stream",
     "text": [
      "dict_keys(['name', 'grades'])\n",
      "dict_keys(['name', 'grades'])\n",
      "dict_keys(['name', 'grades'])\n"
     ]
    }
   ],
   "source": [
    "for student in class_list:\n",
    "    print(student.keys())"
   ]
  },
  {
   "cell_type": "code",
   "execution_count": 5,
   "metadata": {},
   "outputs": [],
   "source": [
    "users = [\n",
    "    (0,\"esther\",\"eagle123\"),\n",
    "    (1,\"trishe\",\"trock123\"),\n",
    "    (2,\"mike\",\"mikey123\"),\n",
    "    (3,\"reggie\",\"reg123\")\n",
    "]"
   ]
  },
  {
   "cell_type": "code",
   "execution_count": 7,
   "metadata": {},
   "outputs": [
    {
     "name": "stdout",
     "output_type": "stream",
     "text": [
      "{'esther': (0, 'esther', 'eagle123'), 'trishe': (1, 'trishe', 'trock123'), 'mike': (2, 'mike', 'mikey123'), 'reggie': (3, 'reggie', 'reg123')}\n"
     ]
    }
   ],
   "source": [
    "user_access = {user[1]:user for user in users}\n",
    "print(user_access)"
   ]
  },
  {
   "cell_type": "code",
   "execution_count": 10,
   "metadata": {},
   "outputs": [
    {
     "name": "stdout",
     "output_type": "stream",
     "text": [
      "Enter your name: trishe\n",
      "Your Password: troock123\n",
      "WRONG credentials\n"
     ]
    }
   ],
   "source": [
    "user_name = input(\"Enter your name: \")\n",
    "passwd = input(\"Your Password: \")\n",
    "\n",
    "_, username, password = user_access[user_name]\n",
    "# print(f\"username is {username}\")\n",
    "# print(f\"password is {passwd}\")\n",
    "if passwd == password:\n",
    "    print(\"Correct credentials\")\n",
    "else:\n",
    "    print(\"WRONG credentials\")"
   ]
  },
  {
   "cell_type": "code",
   "execution_count": 32,
   "metadata": {},
   "outputs": [],
   "source": [
    "def multiply(*args):\n",
    "    print(args)\n",
    "    total = 1\n",
    "    for a in args:\n",
    "        total *= a\n",
    "    return total"
   ]
  },
  {
   "cell_type": "code",
   "execution_count": 25,
   "metadata": {},
   "outputs": [
    {
     "name": "stdout",
     "output_type": "stream",
     "text": [
      "(1, 2, 3, 5)\n",
      "30\n"
     ]
    }
   ],
   "source": [
    "multiply(1,2,3,5)"
   ]
  },
  {
   "cell_type": "code",
   "execution_count": 34,
   "metadata": {},
   "outputs": [],
   "source": [
    "def apply(*args, operator):\n",
    "    if operator == \"*\":\n",
    "        return multiply(*args)\n",
    "    elif operator == \"+\":\n",
    "        return sum(args)\n",
    "    else:\n",
    "        return \"No Valid Operator to Apply()\""
   ]
  },
  {
   "cell_type": "code",
   "execution_count": 35,
   "metadata": {},
   "outputs": [
    {
     "name": "stdout",
     "output_type": "stream",
     "text": [
      "9\n",
      "((2, 3, 4),)\n",
      "(2, 3, 4)\n"
     ]
    }
   ],
   "source": [
    "print(apply(2,3,4,operator=\"+\"))\n",
    "print(apply(2,3,4,operator=\"*\"))"
   ]
  },
  {
   "cell_type": "code",
   "execution_count": 6,
   "metadata": {},
   "outputs": [],
   "source": [
    "staffList = [\n",
    "    {\"name\":\"Mike\", \"Dept\":\"Marketing\"},\n",
    "    {\"name\":\"Tony\", \"Dept\":\"IT\"},\n",
    "    {\"name\":\"Ricke\", \"Dept\":\"Sales\"},\n",
    "    {\"name\":\"Douglas\", \"Dept\":\"HR\"}\n",
    "]"
   ]
  },
  {
   "cell_type": "code",
   "execution_count": 7,
   "metadata": {},
   "outputs": [],
   "source": [
    "staffList.append({\"name\":\"Bosun\",\"Dept\":\"Projects\"})"
   ]
  },
  {
   "cell_type": "code",
   "execution_count": 8,
   "metadata": {},
   "outputs": [
    {
     "name": "stdout",
     "output_type": "stream",
     "text": [
      "[{'name': 'Mike', 'Dept': 'Marketing'}, {'name': 'Tony', 'Dept': 'IT'}, {'name': 'Ricke', 'Dept': 'Sales'}, {'name': 'Douglas', 'Dept': 'HR'}, {'name': 'Bosun', 'Dept': 'Projects'}]\n"
     ]
    }
   ],
   "source": [
    "print(staffList)"
   ]
  },
  {
   "cell_type": "code",
   "execution_count": 23,
   "metadata": {},
   "outputs": [
    {
     "name": "stdout",
     "output_type": "stream",
     "text": [
      "Marketing\n",
      "IT\n",
      "Sales\n",
      "HR\n",
      "Projects\n"
     ]
    }
   ],
   "source": [
    "for list in staffList:\n",
    "    print(list[\"Dept\"])"
   ]
  },
  {
   "cell_type": "code",
   "execution_count": 20,
   "metadata": {},
   "outputs": [],
   "source": [
    "xlist = {\"name\":\"Joe\",\"age\":24,\"unit\":\"Enforcement\"}"
   ]
  },
  {
   "cell_type": "code",
   "execution_count": 21,
   "metadata": {},
   "outputs": [
    {
     "data": {
      "text/plain": [
       "'Enforcement'"
      ]
     },
     "execution_count": 21,
     "metadata": {},
     "output_type": "execute_result"
    }
   ],
   "source": [
    "xlist[\"unit\"]"
   ]
  },
  {
   "cell_type": "code",
   "execution_count": 26,
   "metadata": {},
   "outputs": [],
   "source": [
    "class ClassTest:\n",
    "    def instance_method(self):\n",
    "        print(f\"called instance_method of {self}\")\n",
    "        \n",
    "    @classmethod\n",
    "    def class_method(cls):\n",
    "        print(f\"called class_method of {cls}\")\n",
    "        \n",
    "    @classmethod\n",
    "    def levelss(cls):\n",
    "        print(f\"This is the levels {cls}\")"
   ]
  },
  {
   "cell_type": "code",
   "execution_count": 28,
   "metadata": {},
   "outputs": [
    {
     "name": "stdout",
     "output_type": "stream",
     "text": [
      "called class_method of <class '__main__.ClassTest'>\n"
     ]
    }
   ],
   "source": [
    "ClassTest.class_method()"
   ]
  },
  {
   "cell_type": "code",
   "execution_count": 29,
   "metadata": {},
   "outputs": [],
   "source": [
    "class Book:\n",
    "    TYPES = (\"hardcover\", \"paperback\")\n",
    "    \n",
    "    def __init__(self, name, book_type, weight):\n",
    "        self.name = name\n",
    "        self.book_type = book_type\n",
    "        self.weight = weight\n",
    "        \n",
    "    def __repr__(self):\n",
    "        return f\"<Book {self.name},{self.book_type},{self.weight}g>\"\n",
    "    \n",
    "    @classmethod\n",
    "    def hardcover(cls, name, page_weight):\n",
    "        return Book(name, Book.TYPES[0], page_weight + 100)\n",
    "    \n",
    "    @classmethod\n",
    "    def paperback(cls, name, page_weight):\n",
    "        return Book(name, Book.TYPES[1], page_weight)"
   ]
  },
  {
   "cell_type": "code",
   "execution_count": 2,
   "metadata": {},
   "outputs": [],
   "source": [
    "class Device:\n",
    "    def __init__(self, name, connected_by):\n",
    "        self.name = name\n",
    "        self.connected_by = connected_by\n",
    "        self.connected = True\n",
    "        \n",
    "    def __str__(self):\n",
    "        return f\"Device {self.name!r}({self.connected_by})\"\n",
    "    \n",
    "    def disconnect(self):\n",
    "        self.connected = False\n",
    "        print(\"Disconnected\")"
   ]
  },
  {
   "cell_type": "code",
   "execution_count": 3,
   "metadata": {},
   "outputs": [
    {
     "name": "stdout",
     "output_type": "stream",
     "text": [
      "Device 'Printer'(USB)\n",
      "Disconnected\n"
     ]
    }
   ],
   "source": [
    "printer = Device(\"Printer\",\"USB\")\n",
    "print(printer)\n",
    "printer.disconnect()"
   ]
  },
  {
   "cell_type": "code",
   "execution_count": 4,
   "metadata": {},
   "outputs": [],
   "source": [
    "class Printer(Device):\n",
    "    def __init__(self, name, connected_by, capacity):\n",
    "        super().__init__(name, connected_by)\n",
    "        self.capacity = capacity\n",
    "        self.remaining_pages = capacity\n",
    "        \n",
    "    def __str__(self):\n",
    "        return f\"{super().__str__()}({self.remaining_pages} pages remaining)\"\n",
    "    \n",
    "    def print(self, pages):\n",
    "        if not self.connected:\n",
    "            print(\"Your printer is not connected!\")\n",
    "            return\n",
    "        print(f\"Printing {pages} pages\")\n",
    "        self.remaining_pages -= pages"
   ]
  },
  {
   "cell_type": "code",
   "execution_count": 7,
   "metadata": {},
   "outputs": [
    {
     "name": "stdout",
     "output_type": "stream",
     "text": [
      "Printing 20 pages\n",
      "Device 'Printer'(USB)(480 pages remaining)\n",
      "Disconnected\n",
      "Your printer is not connected!\n"
     ]
    }
   ],
   "source": [
    "printer = Printer(\"Printer\", \"USB\", 500)\n",
    "printer.print(20)\n",
    "\n",
    "print(printer)\n",
    "printer.disconnect()\n",
    "printer.print(30)"
   ]
  },
  {
   "cell_type": "code",
   "execution_count": 17,
   "metadata": {},
   "outputs": [],
   "source": [
    "item = [\"john\",\"Mark\",\"Angela\",\"Rita\"]\n",
    "idisp = lambda x: print(x) ,item"
   ]
  },
  {
   "cell_type": "code",
   "execution_count": 33,
   "metadata": {},
   "outputs": [],
   "source": [
    "def rex(l):\n",
    "    for x in l:\n",
    "        print(x)"
   ]
  },
  {
   "cell_type": "code",
   "execution_count": 34,
   "metadata": {},
   "outputs": [
    {
     "name": "stdout",
     "output_type": "stream",
     "text": [
      "john\n",
      "Mark\n",
      "Angela\n",
      "Rita\n"
     ]
    }
   ],
   "source": [
    "rex(item)"
   ]
  },
  {
   "cell_type": "code",
   "execution_count": 38,
   "metadata": {},
   "outputs": [
    {
     "name": "stdout",
     "output_type": "stream",
     "text": [
      "j\n",
      "o\n",
      "h\n",
      "n\n",
      "M\n",
      "a\n",
      "r\n",
      "k\n",
      "A\n",
      "n\n",
      "g\n",
      "e\n",
      "l\n",
      "a\n",
      "R\n",
      "i\n",
      "t\n",
      "a\n"
     ]
    }
   ],
   "source": [
    "rola = list(map(rex, item))"
   ]
  },
  {
   "cell_type": "code",
   "execution_count": 10,
   "metadata": {},
   "outputs": [
    {
     "output_type": "stream",
     "name": "stdout",
     "text": [
      "['a', 'b', 'c', 'd']\nabcd\n"
     ]
    }
   ],
   "source": [
    "salaries = ['a','b','c','d']\n",
    "print(salaries)\n",
    "print(''.join(salaries))\n"
   ]
  },
  {
   "cell_type": "code",
   "execution_count": 14,
   "metadata": {},
   "outputs": [
    {
     "output_type": "stream",
     "name": "stdout",
     "text": [
      "['w', 'e', 'r', 'k']\n"
     ]
    }
   ],
   "source": [
    "x = 'werk'\n",
    "r = list(x)\n",
    "print(r)"
   ]
  },
  {
   "cell_type": "code",
   "execution_count": 24,
   "metadata": {},
   "outputs": [],
   "source": [
    "def get_secret(nem):\n",
    "    return 'secret' in nem.lower()"
   ]
  },
  {
   "cell_type": "code",
   "execution_count": 27,
   "metadata": {},
   "outputs": [
    {
     "output_type": "execute_result",
     "data": {
      "text/plain": [
       "False"
      ]
     },
     "metadata": {},
     "execution_count": 27
    }
   ],
   "source": [
    "get_secret('Olu is a good boy')"
   ]
  },
  {
   "cell_type": "code",
   "execution_count": 31,
   "metadata": {},
   "outputs": [],
   "source": [
    "def vmaker(mystring):\n",
    "    for item in 'aeiou':\n",
    "        if item in mystring:\n",
    "            print(f\"{item} = x\")\n"
   ]
  },
  {
   "cell_type": "code",
   "execution_count": 32,
   "metadata": {},
   "outputs": [
    {
     "output_type": "stream",
     "name": "stdout",
     "text": [
      "e = x\no = x\nu = x\n"
     ]
    }
   ],
   "source": []
  },
  {
   "cell_type": "code",
   "execution_count": 49,
   "metadata": {},
   "outputs": [],
   "source": [
    "def vmakertu(mystring):\n",
    "    output = list(mystring)\n",
    "    for index, letter in enumerate(mystring):\n",
    "        for vowel in 'aeiou':\n",
    "            if vowel == letter:\n",
    "                output[index] = 'x'\n",
    "    return output\n"
   ]
  },
  {
   "cell_type": "code",
   "execution_count": 50,
   "metadata": {},
   "outputs": [
    {
     "output_type": "execute_result",
     "data": {
      "text/plain": [
       "['x', 'l', 'x', 'b', 'x', 'r', 'r', 'y']"
      ]
     },
     "metadata": {},
     "execution_count": 50
    }
   ],
   "source": [
    "vmakertu('oluberry')"
   ]
  },
  {
   "cell_type": "code",
   "execution_count": 1,
   "metadata": {},
   "outputs": [
    {
     "output_type": "execute_result",
     "data": {
      "text/plain": [
       "1"
      ]
     },
     "metadata": {},
     "execution_count": 1
    }
   ],
   "source": [
    "abs(1-2)"
   ]
  },
  {
   "cell_type": "code",
   "execution_count": null,
   "metadata": {},
   "outputs": [],
   "source": []
  }
 ],
 "metadata": {
  "kernelspec": {
   "display_name": "Python 3",
   "language": "python",
   "name": "python3"
  },
  "language_info": {
   "codemirror_mode": {
    "name": "ipython",
    "version": 3
   },
   "file_extension": ".py",
   "mimetype": "text/x-python",
   "name": "python",
   "nbconvert_exporter": "python",
   "pygments_lexer": "ipython3",
   "version": "3.8.6-final"
  }
 },
 "nbformat": 4,
 "nbformat_minor": 4
}