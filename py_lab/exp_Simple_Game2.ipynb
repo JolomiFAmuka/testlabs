{
 "cells": [
  {
   "cell_type": "code",
   "execution_count": null,
   "id": "77aa721b",
   "metadata": {},
   "outputs": [],
   "source": []
  },
  {
   "cell_type": "code",
   "execution_count": 12,
   "id": "9c02bec8",
   "metadata": {},
   "outputs": [],
   "source": [
    "#create a game list\n",
    "\n",
    "game_list = ['0','1','2']"
   ]
  },
  {
   "cell_type": "code",
   "execution_count": 14,
   "id": "9032e815",
   "metadata": {},
   "outputs": [],
   "source": [
    "def display_game(game_list):\n",
    "    print(game_list)"
   ]
  },
  {
   "cell_type": "code",
   "execution_count": 15,
   "id": "936b05ab",
   "metadata": {},
   "outputs": [
    {
     "name": "stdout",
     "output_type": "stream",
     "text": [
      "['0', '1', '2']\n"
     ]
    }
   ],
   "source": [
    "display_game(game_list)"
   ]
  },
  {
   "cell_type": "code",
   "execution_count": 4,
   "id": "c4cf673e",
   "metadata": {},
   "outputs": [],
   "source": [
    "def player_choice():\n",
    "    \n",
    "    choice = \"WONG\"\n",
    "    \n",
    "    while choice not in ['0','1','2']:\n",
    "        choice = input(\"Please make a choice ('0','1','2'): \")\n",
    "        \n",
    "        if choice not in ['0','1','2']:\n",
    "            print(\"Make acceptable choice ('0','1','2')\")\n",
    "            \n",
    "    return int(choice)"
   ]
  },
  {
   "cell_type": "code",
   "execution_count": 3,
   "id": "bd59727f",
   "metadata": {},
   "outputs": [
    {
     "name": "stdout",
     "output_type": "stream",
     "text": [
      "Please make a choice ('0','1','2'): exs\n",
      "Make acceptable choice ('0','1','2')\n",
      "Please make a choice ('0','1','2'): 100\n",
      "Make acceptable choice ('0','1','2')\n",
      "Please make a choice ('0','1','2'): 2\n"
     ]
    },
    {
     "data": {
      "text/plain": [
       "'2'"
      ]
     },
     "execution_count": 3,
     "metadata": {},
     "output_type": "execute_result"
    }
   ],
   "source": [
    "player_choice()"
   ]
  },
  {
   "cell_type": "code",
   "execution_count": 6,
   "id": "c09db733",
   "metadata": {},
   "outputs": [],
   "source": [
    "def replacement_choice(game_list, choice):\n",
    "    \n",
    "    user_replacement = input(\"Please type input choice: \")\n",
    "    game_list[choice] = user_replacement\n",
    "    \n",
    "    return game_list"
   ]
  },
  {
   "cell_type": "code",
   "execution_count": 7,
   "id": "43feaa8a",
   "metadata": {},
   "outputs": [
    {
     "name": "stdout",
     "output_type": "stream",
     "text": [
      "Please type input choice: new tin\n"
     ]
    },
    {
     "data": {
      "text/plain": [
       "['new tin', '1', '2']"
      ]
     },
     "execution_count": 7,
     "metadata": {},
     "output_type": "execute_result"
    }
   ],
   "source": [
    "replacement_choice(game_list, 0)"
   ]
  },
  {
   "cell_type": "code",
   "execution_count": 10,
   "id": "307e85f3",
   "metadata": {},
   "outputs": [],
   "source": [
    "def gameon_choice():\n",
    "    \n",
    "    choice = \"WONG\"\n",
    "    \n",
    "    while choice not in ['Y','N']:\n",
    "        choice = input(\"Keep playing ('Y','N'): \")\n",
    "        \n",
    "        if choice not in ['Y','N']:\n",
    "            print(\"Keep playing ('Y','N'): \")\n",
    "            \n",
    "    if choice == \"Y\":\n",
    "        return True\n",
    "    else:\n",
    "        return False"
   ]
  },
  {
   "cell_type": "code",
   "execution_count": 11,
   "id": "3bcd6110",
   "metadata": {},
   "outputs": [
    {
     "name": "stdout",
     "output_type": "stream",
     "text": [
      "Keep playing ('Y','N'): djd\n",
      "Keep playing ('Y','N'): \n",
      "Keep playing ('Y','N'): Ne\n",
      "Keep playing ('Y','N'): \n",
      "Keep playing ('Y','N'): N we\n",
      "Keep playing ('Y','N'): \n",
      "Keep playing ('Y','N'): Y\n"
     ]
    },
    {
     "data": {
      "text/plain": [
       "True"
      ]
     },
     "execution_count": 11,
     "metadata": {},
     "output_type": "execute_result"
    }
   ],
   "source": [
    "gameon_choice()"
   ]
  },
  {
   "cell_type": "code",
   "execution_count": 16,
   "id": "e8bd830b",
   "metadata": {},
   "outputs": [
    {
     "name": "stdout",
     "output_type": "stream",
     "text": [
      "['0', '1', '2']\n",
      "Please make a choice ('0','1','2'): er\n",
      "Make acceptable choice ('0','1','2')\n",
      "Please make a choice ('0','1','2'): 100\n",
      "Make acceptable choice ('0','1','2')\n",
      "Please make a choice ('0','1','2'): 2\n",
      "Please type input choice: X\n",
      "['0', '1', 'X']\n",
      "Keep playing ('Y','N'): Y\n",
      "['0', '1', 'X']\n",
      "Please make a choice ('0','1','2'): 0\n",
      "Please type input choice: O\n",
      "['O', '1', 'X']\n",
      "Keep playing ('Y','N'): 0\n",
      "Keep playing ('Y','N'): \n",
      "Keep playing ('Y','N'): n\n",
      "Keep playing ('Y','N'): \n",
      "Keep playing ('Y','N'): N\n"
     ]
    }
   ],
   "source": [
    "game_on = True\n",
    "game_list = ['0','1','2']\n",
    "\n",
    "while game_on:\n",
    "    display_game(game_list)\n",
    "    position = player_choice()\n",
    "    game_list = replacement_choice(game_list, position)\n",
    "    display_game(game_list)\n",
    "    game_on = gameon_choice()"
   ]
  },
  {
   "cell_type": "code",
   "execution_count": null,
   "id": "865bf552",
   "metadata": {},
   "outputs": [],
   "source": []
  }
 ],
 "metadata": {
  "kernelspec": {
   "display_name": "Python 3",
   "language": "python",
   "name": "python3"
  },
  "language_info": {
   "codemirror_mode": {
    "name": "ipython",
    "version": 3
   },
   "file_extension": ".py",
   "mimetype": "text/x-python",
   "name": "python",
   "nbconvert_exporter": "python",
   "pygments_lexer": "ipython3",
   "version": "3.9.7"
  }
 },
 "nbformat": 4,
 "nbformat_minor": 5
}
